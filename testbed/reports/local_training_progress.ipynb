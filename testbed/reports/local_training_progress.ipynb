{
 "cells": [
  {
   "cell_type": "code",
   "execution_count": 2,
   "metadata": {},
   "outputs": [
    {
     "name": "stdout",
     "output_type": "stream",
     "text": [
      "Defaulting to user installation because normal site-packages is not writeable\n",
      "Collecting pandas\n",
      "  Using cached pandas-2.0.0-cp310-cp310-manylinux_2_17_x86_64.manylinux2014_x86_64.whl (12.3 MB)\n",
      "Requirement already satisfied: python-dateutil>=2.8.2 in /home/andras/.local/lib/python3.10/site-packages (from pandas) (2.8.2)\n",
      "Requirement already satisfied: pytz>=2020.1 in /usr/lib/python3/dist-packages (from pandas) (2022.1)\n",
      "Collecting numpy>=1.21.0\n",
      "  Downloading numpy-1.24.3-cp310-cp310-manylinux_2_17_x86_64.manylinux2014_x86_64.whl (17.3 MB)\n",
      "\u001b[2K     \u001b[90m━━━━━━━━━━━━━━━━━━━━━━━━━━━━━━━━━━━━━━━━\u001b[0m \u001b[32m17.3/17.3 MB\u001b[0m \u001b[31m41.8 MB/s\u001b[0m eta \u001b[36m0:00:00\u001b[0m00:01\u001b[0m00:01\u001b[0m\n",
      "\u001b[?25hCollecting tzdata>=2022.1\n",
      "  Using cached tzdata-2023.3-py2.py3-none-any.whl (341 kB)\n",
      "Requirement already satisfied: six>=1.5 in /usr/lib/python3/dist-packages (from python-dateutil>=2.8.2->pandas) (1.16.0)\n",
      "Installing collected packages: tzdata, numpy, pandas\n",
      "Successfully installed numpy-1.24.3 pandas-2.0.0 tzdata-2023.3\n"
     ]
    }
   ],
   "source": [
    "!pip install pandas"
   ]
  },
  {
   "cell_type": "code",
   "execution_count": 6,
   "metadata": {},
   "outputs": [
    {
     "name": "stdout",
     "output_type": "stream",
     "text": [
      "Defaulting to user installation because normal site-packages is not writeable\n",
      "Collecting matplotlib\n",
      "  Using cached matplotlib-3.7.1-cp310-cp310-manylinux_2_17_x86_64.manylinux2014_x86_64.whl (11.6 MB)\n",
      "Collecting cycler>=0.10\n",
      "  Using cached cycler-0.11.0-py3-none-any.whl (6.4 kB)\n",
      "Collecting contourpy>=1.0.1\n",
      "  Using cached contourpy-1.0.7-cp310-cp310-manylinux_2_17_x86_64.manylinux2014_x86_64.whl (300 kB)\n",
      "Collecting fonttools>=4.22.0\n",
      "  Using cached fonttools-4.39.3-py3-none-any.whl (1.0 MB)\n",
      "Requirement already satisfied: pyparsing>=2.3.1 in /usr/lib/python3/dist-packages (from matplotlib) (2.4.7)\n",
      "Requirement already satisfied: packaging>=20.0 in /home/andras/.local/lib/python3.10/site-packages (from matplotlib) (23.1)\n",
      "Requirement already satisfied: numpy>=1.20 in /home/andras/.local/lib/python3.10/site-packages (from matplotlib) (1.24.3)\n",
      "Collecting kiwisolver>=1.0.1\n",
      "  Using cached kiwisolver-1.4.4-cp310-cp310-manylinux_2_12_x86_64.manylinux2010_x86_64.whl (1.6 MB)\n",
      "Collecting pillow>=6.2.0\n",
      "  Using cached Pillow-9.5.0-cp310-cp310-manylinux_2_28_x86_64.whl (3.4 MB)\n",
      "Requirement already satisfied: python-dateutil>=2.7 in /home/andras/.local/lib/python3.10/site-packages (from matplotlib) (2.8.2)\n",
      "Requirement already satisfied: six>=1.5 in /usr/lib/python3/dist-packages (from python-dateutil>=2.7->matplotlib) (1.16.0)\n",
      "Installing collected packages: pillow, kiwisolver, fonttools, cycler, contourpy, matplotlib\n",
      "Successfully installed contourpy-1.0.7 cycler-0.11.0 fonttools-4.39.3 kiwisolver-1.4.4 matplotlib-3.7.1 pillow-9.5.0\n"
     ]
    }
   ],
   "source": [
    "!pip install matplotlib"
   ]
  },
  {
   "cell_type": "code",
   "execution_count": 21,
   "metadata": {},
   "outputs": [],
   "source": [
    "import pandas as pd\n",
    "import matplotlib.pyplot as plt\n",
    "import os\n",
    "import glob\n",
    "import re"
   ]
  },
  {
   "cell_type": "code",
   "execution_count": 130,
   "metadata": {},
   "outputs": [],
   "source": [
    "file_path = '../results/CURRENT/stats/*.log'\n",
    "files = glob.glob(file_path)\n",
    "\n",
    "column_names = ['ID','Name','CPU_Percentage','Memory_Usage','Memory_Percentage','Net_IO','Block_IO']\n",
    "\n",
    "# Read all files and concatenate them into a single DataFrame\n",
    "dataframes = [pd.read_csv(file, names=column_names, header=0) for file in files]\n",
    "df = pd.concat(dataframes, ignore_index=True)\n"
   ]
  },
  {
   "cell_type": "code",
   "execution_count": 118,
   "metadata": {},
   "outputs": [],
   "source": [
    "def conv(s):\n",
    "    # Extract all numbers (including decimals) as strings along with their units\n",
    "    number_strings_with_units = re.findall(r'(\\d+(?:\\.\\d+)?)([GMKk]?i?B)', s)\n",
    "\n",
    "    numbers = []\n",
    "    for num_str, unit in number_strings_with_units:\n",
    "        num = float(num_str)\n",
    "        if unit in ['GiB', 'GB']:\n",
    "            num *= 10**6\n",
    "        elif unit in ['MiB', 'MB']:\n",
    "            num *= 10**3\n",
    "        # elif unit in ['KiB', 'kB', 'KB']:\n",
    "        #     num *= 10**(-3)\n",
    "        numbers.append(num)\n",
    "\n",
    "    return numbers"
   ]
  },
  {
   "cell_type": "code",
   "execution_count": 131,
   "metadata": {},
   "outputs": [],
   "source": [
    "# Remove \"%\" sign from columns with percentages\n",
    "df = df.drop('ID', axis=1)\n",
    "df['Name'] = df['Name'].apply(str.strip)\n",
    "df['CPU_Percentage'] = df['CPU_Percentage'].str.replace('%', '').astype(float)\n",
    "df['Memory_Percentage'] = df['Memory_Percentage'].str.replace('%', '').astype(float)\n",
    "df['Memory_Usage'] = df['Memory_Usage'].apply(conv)\n",
    "df['Net_IO'] = df['Net_IO'].apply(conv)\n",
    "df['Block_IO'] = df['Block_IO'].apply(conv)"
   ]
  },
  {
   "cell_type": "code",
   "execution_count": 116,
   "metadata": {},
   "outputs": [
    {
     "data": {
      "text/plain": [
       "[28.7, 229.0]"
      ]
     },
     "execution_count": 116,
     "metadata": {},
     "output_type": "execute_result"
    }
   ],
   "source": [
    "conv('28.7kB/229kB')"
   ]
  },
  {
   "cell_type": "code",
   "execution_count": 120,
   "metadata": {},
   "outputs": [
    {
     "data": {
      "text/html": [
       "<div>\n",
       "<style scoped>\n",
       "    .dataframe tbody tr th:only-of-type {\n",
       "        vertical-align: middle;\n",
       "    }\n",
       "\n",
       "    .dataframe tbody tr th {\n",
       "        vertical-align: top;\n",
       "    }\n",
       "\n",
       "    .dataframe thead th {\n",
       "        text-align: right;\n",
       "    }\n",
       "</style>\n",
       "<table border=\"1\" class=\"dataframe\">\n",
       "  <thead>\n",
       "    <tr style=\"text-align: right;\">\n",
       "      <th></th>\n",
       "      <th>Name</th>\n",
       "      <th>CPU_Percentage</th>\n",
       "      <th>Memory_Usage</th>\n",
       "      <th>Memory_Percentage</th>\n",
       "      <th>Net_IO</th>\n",
       "      <th>Block_IO</th>\n",
       "    </tr>\n",
       "  </thead>\n",
       "  <tbody>\n",
       "    <tr>\n",
       "      <th>0</th>\n",
       "      <td>bfl-ml_client_7</td>\n",
       "      <td>54.24</td>\n",
       "      <td>[828400.0, 31290000.0]</td>\n",
       "      <td>2.59</td>\n",
       "      <td>[200000.0, 97000.0]</td>\n",
       "      <td>[254.0, 217.0]</td>\n",
       "    </tr>\n",
       "    <tr>\n",
       "      <th>1</th>\n",
       "      <td>bfl-ml_client_10</td>\n",
       "      <td>90.54</td>\n",
       "      <td>[885800.0, 31290000.0]</td>\n",
       "      <td>2.76</td>\n",
       "      <td>[191000.0, 103000.0]</td>\n",
       "      <td>[2520.0, 229.0]</td>\n",
       "    </tr>\n",
       "    <tr>\n",
       "      <th>2</th>\n",
       "      <td>bfl-ml_client_6</td>\n",
       "      <td>65.18</td>\n",
       "      <td>[843600.0, 31290000.0]</td>\n",
       "      <td>2.63</td>\n",
       "      <td>[173000.0, 87000.0]</td>\n",
       "      <td>[28.7, 229.0]</td>\n",
       "    </tr>\n",
       "    <tr>\n",
       "      <th>3</th>\n",
       "      <td>bfl-ml_client_9</td>\n",
       "      <td>65.21</td>\n",
       "      <td>[778000.0, 31290000.0]</td>\n",
       "      <td>2.43</td>\n",
       "      <td>[181000.0, 94800.0]</td>\n",
       "      <td>[172.0, 225.0]</td>\n",
       "    </tr>\n",
       "    <tr>\n",
       "      <th>4</th>\n",
       "      <td>bfl-ml_client_2</td>\n",
       "      <td>93.71</td>\n",
       "      <td>[748000.0, 31290000.0]</td>\n",
       "      <td>2.33</td>\n",
       "      <td>[185000.0, 97900.0]</td>\n",
       "      <td>[12.3, 221.0]</td>\n",
       "    </tr>\n",
       "  </tbody>\n",
       "</table>\n",
       "</div>"
      ],
      "text/plain": [
       "                Name  CPU_Percentage            Memory_Usage   \n",
       "0    bfl-ml_client_7           54.24  [828400.0, 31290000.0]  \\\n",
       "1   bfl-ml_client_10           90.54  [885800.0, 31290000.0]   \n",
       "2    bfl-ml_client_6           65.18  [843600.0, 31290000.0]   \n",
       "3    bfl-ml_client_9           65.21  [778000.0, 31290000.0]   \n",
       "4    bfl-ml_client_2           93.71  [748000.0, 31290000.0]   \n",
       "\n",
       "   Memory_Percentage                Net_IO         Block_IO  \n",
       "0               2.59   [200000.0, 97000.0]   [254.0, 217.0]  \n",
       "1               2.76  [191000.0, 103000.0]  [2520.0, 229.0]  \n",
       "2               2.63   [173000.0, 87000.0]    [28.7, 229.0]  \n",
       "3               2.43   [181000.0, 94800.0]   [172.0, 225.0]  \n",
       "4               2.33   [185000.0, 97900.0]    [12.3, 221.0]  "
      ]
     },
     "execution_count": 120,
     "metadata": {},
     "output_type": "execute_result"
    }
   ],
   "source": [
    "df.head()"
   ]
  },
  {
   "cell_type": "code",
   "execution_count": 136,
   "metadata": {},
   "outputs": [],
   "source": [
    "df_client1 = df.loc[df['Name'] == 'bfl-ml_client_1']\n",
    "df_client1 = df_client1.drop('Name', axis=1)"
   ]
  },
  {
   "cell_type": "code",
   "execution_count": 137,
   "metadata": {},
   "outputs": [
    {
     "data": {
      "text/html": [
       "<div>\n",
       "<style scoped>\n",
       "    .dataframe tbody tr th:only-of-type {\n",
       "        vertical-align: middle;\n",
       "    }\n",
       "\n",
       "    .dataframe tbody tr th {\n",
       "        vertical-align: top;\n",
       "    }\n",
       "\n",
       "    .dataframe thead th {\n",
       "        text-align: right;\n",
       "    }\n",
       "</style>\n",
       "<table border=\"1\" class=\"dataframe\">\n",
       "  <thead>\n",
       "    <tr style=\"text-align: right;\">\n",
       "      <th></th>\n",
       "      <th>CPU_Percentage</th>\n",
       "      <th>Memory_Usage</th>\n",
       "      <th>Memory_Percentage</th>\n",
       "      <th>Net_IO</th>\n",
       "      <th>Block_IO</th>\n",
       "    </tr>\n",
       "  </thead>\n",
       "  <tbody>\n",
       "    <tr>\n",
       "      <th>7</th>\n",
       "      <td>63.63</td>\n",
       "      <td>[795300.0, 31290000.0]</td>\n",
       "      <td>2.48</td>\n",
       "      <td>[202000.0, 106000.0]</td>\n",
       "      <td>[467.0, 217.0]</td>\n",
       "    </tr>\n",
       "    <tr>\n",
       "      <th>29</th>\n",
       "      <td>81.42</td>\n",
       "      <td>[795300.0, 31290000.0]</td>\n",
       "      <td>2.48</td>\n",
       "      <td>[202000.0, 106000.0]</td>\n",
       "      <td>[467.0, 217.0]</td>\n",
       "    </tr>\n",
       "    <tr>\n",
       "      <th>51</th>\n",
       "      <td>56.07</td>\n",
       "      <td>[795300.0, 31290000.0]</td>\n",
       "      <td>2.48</td>\n",
       "      <td>[202000.0, 106000.0]</td>\n",
       "      <td>[467.0, 217.0]</td>\n",
       "    </tr>\n",
       "    <tr>\n",
       "      <th>73</th>\n",
       "      <td>77.15</td>\n",
       "      <td>[795400.0, 31290000.0]</td>\n",
       "      <td>2.48</td>\n",
       "      <td>[202000.0, 106000.0]</td>\n",
       "      <td>[467.0, 217.0]</td>\n",
       "    </tr>\n",
       "    <tr>\n",
       "      <th>95</th>\n",
       "      <td>54.00</td>\n",
       "      <td>[795400.0, 31290000.0]</td>\n",
       "      <td>2.48</td>\n",
       "      <td>[202000.0, 106000.0]</td>\n",
       "      <td>[467.0, 217.0]</td>\n",
       "    </tr>\n",
       "  </tbody>\n",
       "</table>\n",
       "</div>"
      ],
      "text/plain": [
       "    CPU_Percentage            Memory_Usage  Memory_Percentage   \n",
       "7            63.63  [795300.0, 31290000.0]               2.48  \\\n",
       "29           81.42  [795300.0, 31290000.0]               2.48   \n",
       "51           56.07  [795300.0, 31290000.0]               2.48   \n",
       "73           77.15  [795400.0, 31290000.0]               2.48   \n",
       "95           54.00  [795400.0, 31290000.0]               2.48   \n",
       "\n",
       "                  Net_IO        Block_IO  \n",
       "7   [202000.0, 106000.0]  [467.0, 217.0]  \n",
       "29  [202000.0, 106000.0]  [467.0, 217.0]  \n",
       "51  [202000.0, 106000.0]  [467.0, 217.0]  \n",
       "73  [202000.0, 106000.0]  [467.0, 217.0]  \n",
       "95  [202000.0, 106000.0]  [467.0, 217.0]  "
      ]
     },
     "execution_count": 137,
     "metadata": {},
     "output_type": "execute_result"
    }
   ],
   "source": [
    "df_client1.head()"
   ]
  },
  {
   "cell_type": "code",
   "execution_count": 142,
   "metadata": {},
   "outputs": [
    {
     "data": {
      "text/plain": [
       "Text(0.5, 1.0, 'CPU Percentage every 10 sec')"
      ]
     },
     "execution_count": 142,
     "metadata": {},
     "output_type": "execute_result"
    },
    {
     "data": {
      "image/png": "[encoded data removed]",
      "text/plain": [
       "<Figure size 640x480 with 1 Axes>"
      ]
     },
     "metadata": {},
     "output_type": "display_data"
    }
   ],
   "source": [
    "plt.plot(df['CPU_Percentage'])\n",
    "plt.xlabel('Index')\n",
    "plt.ylabel('CPU Percentage')\n",
    "plt.title('CPU Percentage every 10 sec')\n"
   ]
  },
  {
   "cell_type": "code",
   "execution_count": 141,
   "metadata": {},
   "outputs": [
    {
     "data": {
      "text/plain": [
       "[<matplotlib.lines.Line2D at 0x7f8b87e95d20>]"
      ]
     },
     "execution_count": 141,
     "metadata": {},
     "output_type": "execute_result"
    },
    {
     "data": {
      "image/png": "[encoded data removed]",
      "text/plain": [
       "<Figure size 640x480 with 1 Axes>"
      ]
     },
     "metadata": {},
     "output_type": "display_data"
    }
   ],
   "source": [
    "plt.plot(df['Memory_Percentage'])"
   ]
  }
 ],
 "metadata": {
  "kernelspec": {
   "display_name": "Python 3.8.10 64-bit",
   "language": "python",
   "name": "python3"
  },
  "language_info": {
   "codemirror_mode": {
    "name": "ipython",
    "version": 3
   },
   "file_extension": ".py",
   "mimetype": "text/x-python",
   "name": "python",
   "nbconvert_exporter": "python",
   "pygments_lexer": "ipython3",
   "version": "3.10.6"
  },
  "orig_nbformat": 4,
  "vscode": {
   "interpreter": {
    "hash": "31f2aee4e71d21fbe5cf8b01ff0e069b9275f58929596ceb00d14d90e3e16cd6"
   }
  }
 },
 "nbformat": 4,
 "nbformat_minor": 2
}
